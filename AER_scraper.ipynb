{
 "cells": [
  {
   "cell_type": "code",
   "execution_count": 5,
   "id": "30d0fea6",
   "metadata": {},
   "outputs": [
    {
     "name": "stdout",
     "output_type": "stream",
     "text": [
      "Data has been saved to D:\\Personal_project\\aer_latest_articles.txt\n"
     ]
    }
   ],
   "source": [
    "import requests\n",
    "from bs4 import BeautifulSoup\n",
    "\n",
    "base_url = \"https://www.aeaweb.org\"\n",
    "issues_url = \"https://www.aeaweb.org/journals/aer/issues\"\n",
    "\n",
    "response = requests.get(issues_url)\n",
    "soup = BeautifulSoup(response.content, 'html.parser')\n",
    "\n",
    "# 获取最新的volume链接\n",
    "latest_volume_link = soup.find('article', class_='volume-container').find('a')['href']\n",
    "\n",
    "# 访问最新的volume链接并获取所有文章链接\n",
    "response = requests.get(base_url + latest_volume_link)\n",
    "soup = BeautifulSoup(response.content, 'html.parser')\n",
    "articles = soup.find_all('article', class_='journal-article')\n",
    "\n",
    "results = []\n",
    "\n",
    "for article in articles:\n",
    "    title_tag = article.find('h3', class_='title')\n",
    "    title = title_tag.text.strip() if title_tag else \"N/A\"\n",
    "    \n",
    "    authors = [author.text.strip() for author in article.find_all('span', class_='family-name')]\n",
    "    \n",
    "    # 如果没有作者，跳过这篇文章\n",
    "    if not authors:\n",
    "        continue\n",
    "    \n",
    "    article_link_tag = article.find('a')\n",
    "    if not article_link_tag:\n",
    "        continue\n",
    "    article_link = article_link_tag['href']\n",
    "    \n",
    "    # 访问文章链接并获取摘要\n",
    "    response = requests.get(base_url + article_link)\n",
    "    article_soup = BeautifulSoup(response.content, 'html.parser')\n",
    "    abstract_tag = article_soup.find('section', class_='article-information abstract')\n",
    "    abstract = abstract_tag.text.strip().replace('Abstract', '') if abstract_tag else \"N/A\"\n",
    "    \n",
    "    results.append({\n",
    "        'Title': title,\n",
    "        'Authors': \", \".join(authors),\n",
    "        'Abstract': abstract\n",
    "    })\n",
    "\n",
    "# 保存到文件\n",
    "with open('D:\\\\Personal_project\\\\aer_latest_articles.txt', 'w', encoding='utf-8') as file:\n",
    "    for result in results:\n",
    "        file.write(\"Title: \" + result['Title'] + \"\\n\")\n",
    "        file.write(\"Authors: \" + result['Authors'] + \"\\n\")\n",
    "        file.write(\"Abstract: \" + result['Abstract'] + \"\\n\\n\")\n",
    "\n",
    "print(\"Data has been saved to D:\\\\Personal_project\\\\aer_latest_articles.txt\")\n",
    "\n"
   ]
  },
  {
   "cell_type": "code",
   "execution_count": null,
   "id": "6cceac54",
   "metadata": {},
   "outputs": [],
   "source": []
  },
  {
   "cell_type": "code",
   "execution_count": null,
   "id": "2a2e7970",
   "metadata": {},
   "outputs": [],
   "source": []
  }
 ],
 "metadata": {
  "kernelspec": {
   "display_name": "Python 3 (ipykernel)",
   "language": "python",
   "name": "python3"
  },
  "language_info": {
   "codemirror_mode": {
    "name": "ipython",
    "version": 3
   },
   "file_extension": ".py",
   "mimetype": "text/x-python",
   "name": "python",
   "nbconvert_exporter": "python",
   "pygments_lexer": "ipython3",
   "version": "3.11.3"
  }
 },
 "nbformat": 4,
 "nbformat_minor": 5
}
